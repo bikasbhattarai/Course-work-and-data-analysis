{
 "cells": [
  {
   "cell_type": "code",
   "execution_count": 3,
   "metadata": {
    "collapsed": true
   },
   "outputs": [],
   "source": [
    "# Import some modules\n",
    "%matplotlib inline\n",
    "import pandas as pd\n",
    "import numpy as np\n",
    "import glob\n",
    "import linecache"
   ]
  },
  {
   "cell_type": "code",
   "execution_count": null,
   "metadata": {
    "collapsed": true
   },
   "outputs": [],
   "source": [
    "file = glob.glob('/home/bikas/Desktop/AOD/AOD_India/AERONET/20*')\n",
    "file.sort()\n",
    "Lat = []\n",
    "Lon = []\n",
    "Station = [] \n",
    "asia = {}\n",
    "for j in np.arange(len(file)):\n",
    "    try:\n",
    "        column = pd.read_table(file[j],sep =  ',', skiprows = 6)\n",
    "    except:\n",
    "        column = pd.read_table(file[j],sep = '\\\\',skiprows = 6)\n",
    "        colum = col[0].split(',')\n",
    "    \n",
    "    try:\n",
    "        col = column.columns\n",
    "    except:\n",
    "        col = colum\n",
    "    \n",
    "    data = pd.read_table(file[j], sep =  ',', skiprows = 7,header =None ,usecols = [*range(0, len(col))])\n",
    "    data = pd.read_table(file[j],sep =  ',', skiprows = 7 ,usecols = [*range(0, 258)],header =None, names =  col)\n",
    "    \n",
    "    date = pd.to_datetime(data['Date(dd-mm-yyyy)'],format = '%d:%m:%Y')\n",
    "    data = data.set_index(date, append= False).drop(['Date(dd-mm-yyyy)'], 1)\n",
    "    lat = data['Site_Latitude(Degrees)'][1]\n",
    "    lon = data['Site_Longitude(Degrees)'][1]\n",
    "    station = linecache.getline(file[j], 2).split()\n",
    "    tau_1 = data['AOD_440nm-Total']\n",
    "    tau_2 = data['AOD_870nm-Total']\n",
    "    lamb_1 = 440\n",
    "    lamb_2 = 870\n",
    "    ang = np.log(tau_1/tau_2)/np.log(lamb_2/lamb_1)\n",
    "    \n",
    "    aod_550 = (pd.DataFrame(np.exp(np.log(data['AOD_500nm-Total']) - np.log(550/500)*ang))).resample('d').mean()\n",
    "    aod_550.columns = station\n",
    "    aod_550.lat = lat\n",
    "    aod_550.lon = lon\n",
    "    aod_550.name = station\n",
    "    \n",
    "    key = station[0]\n",
    "    \n",
    "    Lat.append(lat)\n",
    "    Lon.append(lon)\n",
    "    Station.append(key)\n",
    "    #aod_550.to_csv('/home/bikas/Desktop/AOD/AOD_India/550/'+str(key)+'.csv')\n",
    "    \n",
    "    \n",
    "    if key in asia:\n",
    "        asia[key].append(aod_550)\n",
    "    else:\n",
    "        asia[key] = aod_550\n",
    "#((pd.DataFrame({'station':Station,'lat':Lat,'lon':Lon})).round(4)).to_csv('/home/bikas/Desktop/AOD/AOD_India/coordinates.csv')"
   ]
  },
  {
   "cell_type": "code",
   "execution_count": null,
   "metadata": {
    "collapsed": true
   },
   "outputs": [],
   "source": []
  }
 ],
 "metadata": {
  "kernelspec": {
   "display_name": "Python 3",
   "language": "python",
   "name": "python3"
  },
  "language_info": {
   "codemirror_mode": {
    "name": "ipython",
    "version": 3
   },
   "file_extension": ".py",
   "mimetype": "text/x-python",
   "name": "python",
   "nbconvert_exporter": "python",
   "pygments_lexer": "ipython3",
   "version": "3.6.3"
  }
 },
 "nbformat": 4,
 "nbformat_minor": 1
}
